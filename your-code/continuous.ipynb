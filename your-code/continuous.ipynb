{
 "cells": [
  {
   "cell_type": "markdown",
   "metadata": {},
   "source": [
    "# Before your start:\n",
    "\n",
    "    Read the README.md file\n",
    "    Comment as much as you can and use the resources (README.md file)\n",
    "    Happy learning!"
   ]
  },
  {
   "cell_type": "markdown",
   "metadata": {},
   "source": [
    "In this exercise, we  will generate random numbers from the continuous disributions we learned in the lesson. There are two ways to generate random numbers:\n",
    "\n",
    "1. Using the numpy library \n",
    "1. using the Scipy library \n",
    "\n",
    "Use either or both of the lbraries in this exercise."
   ]
  },
  {
   "cell_type": "markdown",
   "metadata": {},
   "source": [
    "## Uniform Distribution\n",
    "\n",
    "To generate uniform random numbers between any two given values using scipy, we can either use the following code or the code that we have\n",
    "discussed in class:"
   ]
  },
  {
   "cell_type": "code",
   "execution_count": 1,
   "metadata": {},
   "outputs": [
    {
     "name": "stdout",
     "output_type": "stream",
     "text": [
      "[2.83324892 2.46031256 2.61900625 2.14317939 2.04533597 2.88935257\n",
      " 2.90686729 2.63597077 2.55442259 2.54779959]\n"
     ]
    }
   ],
   "source": [
    "from scipy.stats import uniform\n",
    "x = uniform.rvs(size=10)\n",
    "a = 2\n",
    "b = 3\n",
    "randoms  = a + (b-a)*x\n",
    "print(randoms)"
   ]
  },
  {
   "cell_type": "markdown",
   "metadata": {},
   "source": [
    "**Your task:**\n",
    "\n",
    "1. Based on the code above, write a function that generates uniformly distributed random numbers. There are several requirements for your function:\n",
    "    * It should accept 3 parameters: \n",
    "        * `bottom` - the lower boundary of the generated numbers\n",
    "        * `ceiling` - the upper boundary of the generated numbers\n",
    "        * `count` - how many numbers to generate\n",
    "    * It should return an array of uniformly distributed random numbers\n",
    "\n",
    "1. Call your function with 2 sets of params below:\n",
    "    * bottom=10, ceiling=15, count=100\n",
    "    * bottom=10, ceiling=60, count=1,000\n",
    "\n",
    "1. Plot the uniform distributions generated above using histograms, where x axis is the value and y axis is the count. Let the histogram's number of bins be 10.\n",
    "\n",
    "Your output should look like below:\n",
    "\n",
    "![uniform distribution](ud.png)"
   ]
  },
  {
   "cell_type": "code",
   "execution_count": 32,
   "metadata": {},
   "outputs": [],
   "source": [
    "import numpy as np\n",
    "import random\n",
    "import pandas as pd\n",
    "import matplotlib.pyplot as plt"
   ]
  },
  {
   "cell_type": "code",
   "execution_count": 29,
   "metadata": {},
   "outputs": [],
   "source": [
    "# your code here\n",
    "\n",
    "def random_numbers(bottom, ceiling, count):\n",
    "    numbers = [random.randint(bottom, ceiling) for i in range(count)]\n",
    "    return numbers"
   ]
  },
  {
   "cell_type": "code",
   "execution_count": 52,
   "metadata": {},
   "outputs": [
    {
     "data": {
      "image/png": "[encoded data removed]",
      "text/plain": [
       "<Figure size 432x288 with 1 Axes>"
      ]
     },
     "metadata": {
      "needs_background": "light"
     },
     "output_type": "display_data"
    }
   ],
   "source": [
    "set_1 = random_numbers(10,15,100)\n",
    "\n",
    "\n",
    "plt.hist(set_1, bins=10)\n",
    "plt.show()"
   ]
  },
  {
   "cell_type": "code",
   "execution_count": 51,
   "metadata": {},
   "outputs": [
    {
     "data": {
      "image/png": "[encoded data removed]",
      "text/plain": [
       "<Figure size 432x288 with 1 Axes>"
      ]
     },
     "metadata": {
      "needs_background": "light"
     },
     "output_type": "display_data"
    }
   ],
   "source": [
    "set_2 = random_numbers(10,15,100)\n",
    "\n",
    "plt.hist(set_2, bins=10)\n",
    "plt.show()"
   ]
  },
  {
   "cell_type": "markdown",
   "metadata": {},
   "source": [
    "How are the two distributions different?"
   ]
  },
  {
   "cell_type": "code",
   "execution_count": null,
   "metadata": {},
   "outputs": [],
   "source": [
    "# your answer here:\n",
    "\n",
    "# in set 2 the values are more evenly distributed, because of the higher number of count"
   ]
  },
  {
   "cell_type": "markdown",
   "metadata": {},
   "source": [
    "## Normal Distribution\n",
    "\n",
    "1. In the same way in the Uniform Distribution challenge, write a function that generates normally distributed random numbers.\n",
    "1. Generate 1,000 normally distributed numbers with the average of 10 and standard deviation of 1\n",
    "1. Generate 1,000 normally distributed numbers with the average of 10 and standard deviation of 50\n",
    "2. Plot the distributions of the data generated.\n",
    "\n",
    "Expected output:\n",
    "\n",
    "![normal distribution](nd.png)"
   ]
  },
  {
   "cell_type": "code",
   "execution_count": 37,
   "metadata": {},
   "outputs": [],
   "source": [
    "# your code here\n",
    "\n",
    "def normal_random(mu, sigma, count):\n",
    "    set = mu + sigma * np.random.randn(count)\n",
    "    return set"
   ]
  },
  {
   "cell_type": "code",
   "execution_count": 39,
   "metadata": {},
   "outputs": [
    {
     "data": {
      "text/plain": [
       "array([10.410567  ,  9.9856195 ,  9.89801049, 11.07909247,  9.55166608,\n",
       "        9.0693418 ,  9.81349263,  9.05164628, 11.26734592,  7.54186882,\n",
       "       10.48180943, 11.1960239 ,  9.6371319 , 11.07115408, 11.00036876,\n",
       "       10.51359506,  9.06481739,  8.46767272, 12.04540388,  9.84569593,\n",
       "        8.19747731,  8.70449846, 10.37391446,  9.60358749, 10.45865816,\n",
       "        7.27134536, 10.38642048,  9.60455193, 11.13178211, 10.86750295,\n",
       "       12.12548399, 10.37607371,  8.62490152, 10.070915  , 10.62278414,\n",
       "       11.43450329, 10.33075335,  9.42448999, 10.66793925, 11.27012402,\n",
       "       11.21170061,  8.34648007,  9.44271833, 10.52379633, 10.85953499,\n",
       "       10.53941908, 10.11279552,  9.7336574 ,  9.01022416, 10.82484858,\n",
       "        9.53213214, 10.29230226, 11.78026079,  9.71658236,  9.17839131,\n",
       "       10.35534215,  9.12697422, 10.81431205, 10.4797259 ,  8.36731409,\n",
       "       11.70821113, 11.30486336, 10.75231043, 10.02758586, 10.7272383 ,\n",
       "        9.58474351, 10.91292635, 11.67124595, 10.58869832,  9.24860495,\n",
       "        8.50929409, 11.62452953,  9.16469582,  9.5581265 ,  8.92771266,\n",
       "        9.29311082, 11.14135798, 10.99211875,  9.96098723, 10.17852796,\n",
       "       10.70276251, 11.46284231,  8.97862943, 11.34975897, 11.73114597,\n",
       "       10.58544292, 10.43938612, 12.30203608, 10.33900182,  9.1893985 ,\n",
       "        9.07780772,  8.52328931,  8.09392959,  8.46343801, 10.65899476,\n",
       "       10.86064516,  9.25779343,  8.33245914, 10.23143427,  8.87433585,\n",
       "       10.41720202, 11.29133154,  9.47714988, 10.58845547,  8.86699438,\n",
       "       11.0697572 ,  8.08073229, 10.82476412, 10.66795121, 10.87196407,\n",
       "        8.72453582, 10.82787725,  8.89961864, 10.55888351,  9.79201552,\n",
       "       11.29081141, 10.53441904, 10.37525678,  9.27647939,  8.98161961,\n",
       "        8.7619695 ,  8.45317053, 10.34796025,  9.47180305, 10.96702978,\n",
       "        9.49724495,  9.56590388,  7.33050334,  9.60082413, 11.52631372,\n",
       "       10.06146158, 10.98430603,  9.52282104,  9.79698343,  8.80851305,\n",
       "        9.39154386,  8.88089978, 10.62463882,  8.75587686, 10.65504006,\n",
       "        9.32859821, 11.20695034, 11.20239986,  9.66095063, 10.23234454,\n",
       "        8.96241376, 10.11578101, 10.36831312, 11.67299806, 11.1131556 ,\n",
       "        9.52375964,  9.88401446,  9.02111703, 10.0444151 ,  9.11320952,\n",
       "        9.23914559,  9.10781355,  8.7402686 ,  9.64638479,  9.68045826,\n",
       "        9.53026711,  9.04796797, 11.50440381, 11.04469454,  8.49157206,\n",
       "        8.11318806, 10.9362848 , 10.92816727, 10.86815523,  8.85285206,\n",
       "        9.02145656,  8.90286973, 10.32481566,  9.17990533,  9.82282538,\n",
       "        9.46235563, 12.02516146, 10.2916091 ,  7.99472896,  9.9068735 ,\n",
       "       10.28712014, 10.32301579, 10.13527479, 11.1081078 , 11.39475722,\n",
       "       10.35512067,  8.78062776, 11.60591971, 11.22976085,  8.039347  ,\n",
       "        8.79045333,  8.22575219, 10.16091565, 10.62611337, 10.24776658,\n",
       "       12.26214965, 11.34610921,  9.0542359 , 10.79926782, 10.06919863,\n",
       "       10.80993161,  8.17295648,  9.7088869 , 10.30009504, 10.22959873,\n",
       "       10.2983792 ,  8.01436854,  8.71978821,  9.38681319, 10.02675522,\n",
       "        9.42158888, 11.75367853,  9.97391807, 10.91950756,  9.93727135,\n",
       "       11.22487768,  8.89328749,  9.43105759,  9.74186452, 10.35248678,\n",
       "        9.55986174, 10.20482304, 11.74883155,  9.49369189, 10.51473113,\n",
       "        8.23577417,  9.98734901,  9.89975977, 10.36608995,  9.57159315,\n",
       "       10.00946083, 11.48072129, 11.22673137,  8.41521932,  9.43699418,\n",
       "       10.14909522, 10.52475156, 10.88600929, 11.02067838,  9.58440725,\n",
       "        9.21767068,  9.93163399, 10.42058836,  8.80293448,  9.62371244,\n",
       "        9.21012121, 10.60530776, 11.02887862, 10.49057808,  9.72691614,\n",
       "        8.84521775, 10.55400626, 10.23320604, 11.69170062,  9.69741157,\n",
       "       11.00926498,  9.56658531, 10.51607271, 10.86615497, 10.05474994,\n",
       "       12.29130685,  9.17257188,  8.86012752,  8.48198987, 11.07482232,\n",
       "        9.75954262, 12.24938929,  9.85330486,  9.95465203,  9.57753408,\n",
       "        9.48797073, 10.0816221 ,  8.87530484, 10.87074591,  9.88141504,\n",
       "       10.17938737, 10.72974422, 10.85971794,  8.61292026, 10.58524991,\n",
       "       10.00488519,  9.99777855, 11.14005751,  9.28628411, 10.30130156,\n",
       "        9.0607161 ,  9.00513801, 10.55659641, 12.20969345, 10.21264217,\n",
       "       12.2731519 , 10.60714056,  8.84169649,  7.30624535,  8.21944618,\n",
       "        8.8021016 ,  9.94671918, 10.48375197, 10.27927974, 10.97649722,\n",
       "        8.96763227, 11.54839134,  8.92895202,  8.48585848, 11.04685041,\n",
       "        8.43254834, 10.12431756, 10.62256665,  7.7569157 , 10.08720561,\n",
       "        9.80271471,  9.84175186,  9.27722734, 10.82385791, 10.1616727 ,\n",
       "        9.95553071, 10.05609874,  9.61992086, 10.29579963, 11.08359483,\n",
       "        9.10166632, 10.13053317, 10.27851838, 10.12228012,  8.24682583,\n",
       "       11.56867619, 11.24672662, 10.06189604, 10.65711936, 10.09676587,\n",
       "        8.84900796, 10.07440203,  8.56962065, 10.31296269,  8.7002157 ,\n",
       "       10.08805189, 10.05411588, 10.33022284, 11.26363693,  9.41237651,\n",
       "        8.42953475, 10.74707926, 10.81736457,  9.77838864, 11.10170384,\n",
       "        9.92433535,  9.42158784, 10.59907308, 10.4329663 , 10.46974445,\n",
       "       10.97507985, 10.07207934,  9.83391307,  8.25611638,  9.93650537,\n",
       "       10.51399659, 11.03010652,  8.47704231, 10.20181379, 10.85879812,\n",
       "        9.29312385,  7.87635802,  9.69289954, 10.67151383,  9.38238761,\n",
       "        9.13389811,  9.43262611, 10.60849789, 11.76604504,  8.60152868,\n",
       "       10.5061416 , 10.48497299, 10.85423176, 12.25992995, 12.10713002,\n",
       "       10.0154199 , 10.93206881,  9.89568126, 10.27015044, 10.34001392,\n",
       "       10.39501159, 10.09431689,  9.00016806,  9.08813536, 10.43318868,\n",
       "        7.18722163,  8.28515819,  9.4426117 ,  9.78789957,  9.69981883,\n",
       "       10.8130228 ,  9.35379932,  9.44326453,  9.51147419,  9.33191356,\n",
       "       11.21149801, 11.37592133,  7.96022986,  9.76507824,  9.29115925,\n",
       "        8.22205222, 10.0187173 ,  9.72023091,  9.59240202, 10.97494856,\n",
       "       11.03406247, 11.17287451, 10.69633771, 10.6465772 ,  8.87548726,\n",
       "        9.73035917,  9.58038836,  8.32535867, 10.45741117, 10.52977338,\n",
       "        8.04105387,  9.13785378, 10.96251653,  9.68906119, 10.37810644,\n",
       "       10.75509575,  9.12560327,  8.19583487,  9.7284375 , 10.49100144,\n",
       "       10.82478412, 10.90873086,  9.55614425, 10.58020763,  9.92204796,\n",
       "        8.76026129, 10.07758325,  9.04022945, 10.05936611,  9.61210299,\n",
       "        8.54937569,  9.62100237, 11.0951075 , 10.84283451,  9.79821716,\n",
       "       10.34482115,  9.6159299 ,  9.59543571, 11.22612828,  9.74160079,\n",
       "       10.47397164, 11.70380571,  7.4967176 , 11.17445173,  9.74708371,\n",
       "        8.73183668, 11.09462063,  7.25454465,  8.9126662 ,  8.42790232,\n",
       "        9.56967112,  8.60927113, 10.1395216 , 11.86415383,  9.73172614,\n",
       "        9.55295808, 10.90334519,  9.39325358, 10.8597628 ,  8.4415355 ,\n",
       "       10.41190729, 11.0270697 ,  9.99151599, 10.16600593, 10.06289174,\n",
       "        9.42854116, 10.13308918, 10.78566357, 10.71654379,  9.82219735,\n",
       "       12.13139399, 10.58576848, 11.37800545,  9.99653876,  9.75786593,\n",
       "       10.14890308,  8.54236201, 10.20173581,  9.61764553,  9.10264082,\n",
       "       10.09473715, 10.08815458,  9.34537677,  9.98193397,  9.01001674,\n",
       "        8.69852722, 10.24252126, 10.08678516,  8.38432897,  8.30666184,\n",
       "       10.76162488,  9.95212758, 10.06956846, 10.0145463 , 10.6590086 ,\n",
       "        9.50447377, 11.07437407, 10.4953043 ,  9.99031765, 10.12106705,\n",
       "        9.70065873, 10.02764585, 10.52111969,  8.57991751, 10.11216266,\n",
       "        9.7613169 , 11.57609703, 10.18044185, 11.11056988, 10.31460899,\n",
       "       10.10594814, 10.68500374,  8.47393126, 10.74621451,  9.91840574,\n",
       "        9.07870804,  8.53390905, 10.07835491, 10.6899312 , 10.77780316,\n",
       "        9.44770968, 11.23894856, 11.3029874 , 11.67578737, 10.96006415,\n",
       "       10.46490779, 10.1612287 , 10.29024044, 10.43900517,  8.88186116,\n",
       "        8.03305216, 10.29535445,  8.59520588, 10.24139995,  9.68014561,\n",
       "       10.49214398, 11.36322967, 10.59718647, 11.23990405,  9.03757938,\n",
       "        9.39423561,  8.34797249, 10.40789889,  8.91813965,  9.98904052,\n",
       "       10.74057157,  8.7523073 ,  8.50927333, 10.89453113, 11.11876804,\n",
       "       10.21397697,  9.23036567,  9.62963083,  9.126647  ,  9.50809618,\n",
       "       10.00179294,  9.49565612,  9.74276149, 10.95042194,  9.43693962,\n",
       "       10.18086987, 10.21067415, 10.19336913, 11.57046859, 11.6915245 ,\n",
       "        9.88200905, 10.84510948,  8.95838831, 10.11702719, 10.3669121 ,\n",
       "       11.12345191,  8.60565872, 10.94356156, 10.4244139 ,  9.81735499,\n",
       "        9.59953334,  9.72775541, 11.32929758,  9.39912396,  9.67679543,\n",
       "        9.47023084,  9.75254562,  9.8494577 , 10.48781283, 10.16905038,\n",
       "       11.12367803,  9.84509699,  8.10652773,  9.0829006 , 10.29533833,\n",
       "        9.93196815, 10.72345812,  9.4764073 , 10.74352121,  9.34265962,\n",
       "        9.67034949, 10.10684037, 11.51441853, 10.09594293, 11.63832582,\n",
       "       11.72256329,  7.93157868,  9.1626866 , 11.52333044,  8.75766003,\n",
       "        8.96387413,  9.79388105,  9.41867766,  8.50733182,  7.62633952,\n",
       "       10.6416124 ,  9.79690791, 11.70325768, 11.05602181,  9.38945001,\n",
       "        9.94717301,  7.84866985,  9.75099383,  9.9531385 ,  8.71004551,\n",
       "       11.51465335, 10.13222748,  8.5180418 , 11.60954594, 10.77407868,\n",
       "       11.6009462 , 10.83080212, 10.49429992, 11.51688159,  9.64278036,\n",
       "       10.00881364,  9.42908657,  8.31999244, 10.71605729,  9.50023044,\n",
       "        8.9971341 , 10.84856556, 10.54682986, 11.23400328,  9.00327202,\n",
       "        9.99377882, 10.0007384 ,  9.39715844, 11.17961572,  8.91574089,\n",
       "        9.51456781, 10.79797289, 10.33823852,  8.91520998,  9.05392023,\n",
       "       10.99370702, 10.0567171 ,  9.53356581,  9.41531593, 10.78920225,\n",
       "       11.75330872, 10.12874176, 10.64899699,  9.84947231,  9.73367829,\n",
       "        9.86777526, 10.04281447, 10.23792603,  8.6009794 , 10.72185358,\n",
       "       11.33644519,  8.67260166, 11.30209573,  7.71555423, 11.21001155,\n",
       "        9.67027137,  8.73160947, 10.51953373,  9.53505029,  8.06745287,\n",
       "       10.08276079, 10.93003016, 10.47288681,  9.66244892,  9.47302988,\n",
       "       10.23084367, 10.4241482 , 10.41847712, 10.1885901 , 10.99801118,\n",
       "        9.99517934,  8.2327143 ,  9.47967825, 10.76746756,  9.21173437,\n",
       "        9.48290269, 10.72186738,  9.88693923,  9.41024143, 10.6978079 ,\n",
       "       11.00791952,  9.78121319,  9.94185723, 10.17540073, 11.84617965,\n",
       "        9.58591408,  7.56829257,  9.47954714,  9.99717391,  8.36693262,\n",
       "        8.14711458, 10.85320242, 10.56959499,  8.88538488,  7.46076952,\n",
       "       10.13715584, 11.08745329,  9.677644  ,  9.60359106,  9.26609834,\n",
       "       10.15602306,  9.33534714, 11.74240626, 11.76562049,  9.41703132,\n",
       "       10.18638923, 11.29475798,  9.63635702, 10.48660813, 10.81150574,\n",
       "       11.25292615,  7.91764552,  8.86849627, 11.80771292,  9.60676746,\n",
       "        9.58871216,  8.51277098, 10.44855334,  8.75085512, 10.42847049,\n",
       "        8.49536415,  9.93466004, 10.02792688,  8.34755042,  9.48556022,\n",
       "        9.17939082,  9.43567926, 10.57445876, 10.89018413, 11.18744163,\n",
       "        9.11754556, 11.87891487,  9.95279755, 10.05237343,  9.12857475,\n",
       "       10.35150091, 10.26748976,  9.95525819,  8.75714753,  9.92591752,\n",
       "        9.54301535,  8.3505018 ,  8.82847351, 11.05537958,  9.52986826,\n",
       "       10.57199672, 11.90517822, 10.24327145,  9.44727159, 10.73830229,\n",
       "       11.23121989,  8.80037586, 10.39696526, 10.10663689, 10.11533545,\n",
       "        9.90357953,  8.99949599,  9.5578628 ,  8.64865129, 10.60106086,\n",
       "       10.97184352, 10.47788526,  9.54108395, 12.44051147,  9.78160689,\n",
       "        9.12340302,  9.92972815, 10.60952856, 10.38229724,  7.59092278,\n",
       "       10.61720125, 10.97018851,  9.1752436 , 10.05429619,  9.41704563,\n",
       "       10.89673302,  8.46750455,  9.98669003, 10.18446016,  9.68423648,\n",
       "        8.95018844,  9.47580796,  9.46466407, 10.15007278, 10.57077913,\n",
       "        9.79505087, 11.44326343,  8.05686233,  9.18543505, 10.16888231,\n",
       "       10.57819466, 10.34330316,  9.65694752, 10.3357602 , 10.98806842,\n",
       "        8.22555088,  9.5573957 ,  8.72013547,  9.94022854,  9.3970669 ,\n",
       "       11.82405407,  8.29935494, 10.69154636, 10.37905096, 11.13836906,\n",
       "        8.88372161,  9.64471571,  8.0776827 , 10.78972882,  9.82009966,\n",
       "        9.80145819, 11.10515437, 10.2314096 ,  9.39422087,  9.3733024 ,\n",
       "        9.88972116, 10.30847955, 10.75894671, 10.03529483, 10.54939026,\n",
       "       11.00512213, 10.01005432, 10.75444479, 10.58792814,  8.70182064,\n",
       "        9.34607569, 10.40022925, 10.32528983,  9.38671731,  9.8301705 ,\n",
       "       10.52717063,  9.95108376,  9.41627544,  9.48927209, 10.03377683,\n",
       "        9.73080856, 10.25978444, 10.15645965, 10.2596234 , 10.29835051,\n",
       "       10.60653495, 11.73157305, 11.31579979,  9.82449856, 10.77415758,\n",
       "        9.66174038,  9.59465732,  7.75457067, 11.64459938, 11.414422  ,\n",
       "        9.75477627, 10.89481095,  9.25167516, 10.42063223, 10.92173499,\n",
       "       11.11188557,  8.91622863,  9.99010826, 10.10731763,  9.47579754,\n",
       "        9.59512564,  9.8651187 , 10.28253239, 10.9886659 ,  9.45296323,\n",
       "       11.86502683, 10.13458764,  8.74091699, 10.92494117,  8.97760656,\n",
       "       11.15901626, 10.61521804,  8.57680122, 10.09489201, 11.11519613,\n",
       "       10.59834736, 10.193543  , 10.34819919, 10.89155927,  9.06747486,\n",
       "        9.86322644, 10.39975408,  9.09244484, 10.44351979, 10.36841374,\n",
       "       10.23591259, 11.56338017, 10.44779123,  9.4263403 ,  9.91358988,\n",
       "       12.25812913,  9.17952824,  8.31609802,  9.17373212,  6.72730835,\n",
       "        9.24709983,  9.94207966,  9.49452732,  9.00065445,  8.82147867,\n",
       "        9.60414856, 10.03922974, 10.67737062,  8.91888346, 11.23103954,\n",
       "        9.53546433, 11.06538654, 10.02970716,  9.0187825 ,  9.66490023,\n",
       "       12.08108074,  9.91867005, 10.0732955 ,  8.80017947,  9.57575701,\n",
       "        8.95448892,  9.86202688, 10.49592966,  8.92357992,  9.90528686,\n",
       "        9.80693956,  8.42973177, 10.6043518 ,  9.56323422, 10.74627762,\n",
       "       10.46415095,  9.74821593, 10.55999874,  8.49706448,  8.76439445,\n",
       "        8.52806832,  9.06950345,  9.44058009, 11.75995076,  9.92690882,\n",
       "        9.76651424,  9.30011974, 10.49648965, 10.63459531,  8.86199371,\n",
       "        9.84661705,  9.13853219, 10.32759699, 10.49857343, 10.54611173,\n",
       "       11.22911252,  7.81522452, 10.10474201,  9.24545542, 10.38202606,\n",
       "       10.21072258, 11.43301503,  9.30913491, 13.43031767, 10.16583259,\n",
       "       10.39739791,  8.80234355,  9.79529631, 11.51655779,  8.65015267,\n",
       "        9.54347038,  9.40683137,  9.9020231 , 12.50930832, 11.45170057,\n",
       "       11.19753032,  9.66656987, 10.51231603,  8.49429356, 10.48301154,\n",
       "       11.09033424, 12.1291923 , 10.18602851, 10.52661247, 10.76148233,\n",
       "        9.63588882, 10.08553696, 10.90809781,  9.86367729, 10.58379466])"
      ]
     },
     "execution_count": 39,
     "metadata": {},
     "output_type": "execute_result"
    }
   ],
   "source": [
    "set_1 = normal_random(10,1,1000)\n",
    "set_1"
   ]
  },
  {
   "cell_type": "code",
   "execution_count": 40,
   "metadata": {},
   "outputs": [
    {
     "data": {
      "text/plain": [
       "array([-2.45836056e+01,  8.66175087e+01,  6.35437685e+01,  5.61815695e+01,\n",
       "       -7.47541793e+00, -2.36051034e+01,  1.40516014e+01, -6.15317861e+00,\n",
       "       -1.89074776e-01,  1.69955594e+01,  7.02461851e+00,  6.39062454e+01,\n",
       "        4.16665933e+01,  3.43719275e+01, -1.83363899e+01,  5.11566735e+00,\n",
       "       -3.14042667e+01,  1.39963074e+01,  4.10849361e+01,  1.64991199e+01,\n",
       "        1.34493470e+00,  2.59552815e+01,  4.12660093e+01,  5.73911966e+01,\n",
       "       -2.85654074e+01,  2.61983790e+01, -6.59951511e+01, -2.08721608e+01,\n",
       "        6.01787461e+01, -1.83401167e+01, -3.08140191e+01, -4.66389411e+01,\n",
       "        6.01320441e+01,  9.13296384e+00,  6.08341303e+01,  3.69026719e+00,\n",
       "        1.58166650e+01,  2.38165654e+01,  1.69733895e+01,  2.71164134e+00,\n",
       "       -2.27851142e+01, -2.43475969e+01, -2.73425864e+01, -1.38562979e+01,\n",
       "        2.32586554e+00,  2.93863954e+01,  1.80938400e+01, -1.35983081e+01,\n",
       "        2.46757126e+01, -4.41949689e+00, -2.41621363e+01,  6.87594204e-01,\n",
       "        4.53298350e+01, -1.73205254e+01,  4.47460265e+01,  3.33986121e+01,\n",
       "        2.88024601e+01,  4.08743025e+01, -6.12700138e+01, -6.32450739e+01,\n",
       "       -9.33035088e+00,  2.68208198e+01,  1.02437508e+01,  5.93366863e+01,\n",
       "        9.08961606e+01, -6.67037778e+00,  2.71965518e+01, -6.38672548e+00,\n",
       "        7.72907336e+01,  7.59508890e+01,  2.11317711e+01, -4.58797877e+01,\n",
       "        6.36756924e+01, -5.71931129e+01, -7.04873892e+00, -3.50142467e+01,\n",
       "       -3.02456800e+01,  4.60602595e+01,  4.24034987e-01,  7.34842159e+01,\n",
       "        2.34075521e+01,  4.13006900e+01, -2.06946252e+01, -1.47421685e+01,\n",
       "        1.10195820e+01, -4.15313006e+01,  1.22137797e+02,  5.59547546e+01,\n",
       "        5.25463334e+01,  1.61404142e+01, -1.97082969e+01,  3.57684927e+01,\n",
       "       -6.92258578e+01,  6.45218547e+01,  3.11290191e+01, -6.69747797e+01,\n",
       "        1.53035247e+00, -2.44085210e+01,  1.75941886e+01,  2.73639151e+00,\n",
       "        5.03858130e+01,  2.37290363e+01, -4.09668687e+01,  3.09428623e+01,\n",
       "       -4.91711375e+01,  8.80132778e+01, -8.94208247e+00, -2.38289096e+01,\n",
       "        1.24227938e+02, -3.11451380e+01,  5.37645674e+01,  1.04604084e+02,\n",
       "       -4.74504435e+00,  2.16584635e+01, -2.11367649e+01,  3.82146898e+01,\n",
       "        6.39134339e+01,  1.53469149e-01,  1.66402689e+01, -1.61397322e+02,\n",
       "        5.67896659e+01,  4.30145792e+01, -1.04860889e+02,  3.34298912e+01,\n",
       "       -2.44661250e+01, -1.17668174e+01, -3.42877663e+01,  1.26603801e+01,\n",
       "        5.30269110e+01, -1.61660918e+01,  5.65932612e+01,  2.34258452e+01,\n",
       "       -7.55794019e+01, -6.50202424e+00, -7.58416578e+00,  3.84673014e+01,\n",
       "        3.90074349e+01,  4.18469349e-01, -7.17592118e+01, -2.06930502e+01,\n",
       "       -9.78008371e+00, -7.60971184e+01,  6.33400481e+01,  2.36076357e+01,\n",
       "        2.23883224e+00,  2.78758145e+00,  7.80821032e+00,  3.00755886e+01,\n",
       "        2.12956257e+01,  6.41268455e+01,  1.73133467e+01,  5.24722298e+01,\n",
       "       -2.14767033e+01, -2.13987426e+01,  1.03838952e+02, -2.62160364e+01,\n",
       "        3.74375247e+01,  5.65080631e+01,  1.44696677e+02, -9.99727014e+01,\n",
       "       -6.22147181e+00, -2.99758013e+01,  3.44097120e+01,  1.22827840e+00,\n",
       "        7.35774543e+01, -6.77842393e+00,  4.89375317e+01,  4.78283494e+01,\n",
       "       -5.08468377e+01,  1.34300029e+01,  2.64173394e+01,  2.65166738e+01,\n",
       "       -4.41373955e+01, -4.86554488e+01, -7.47640227e+01, -5.19247375e+01,\n",
       "        8.42722043e+01, -6.07479881e+01, -2.04890695e+01,  5.83173842e+01,\n",
       "        4.48724617e+01,  2.39166265e+01,  3.38783118e+00, -1.87334734e+01,\n",
       "       -2.93206366e+01,  3.99081367e+01,  2.44325715e+01,  6.10340822e+01,\n",
       "       -1.57570110e+01,  4.41422677e+01, -8.85829698e+01,  3.91340133e+01,\n",
       "        5.59862225e+00, -2.73471142e+01,  6.03247855e+01,  3.22238626e+00,\n",
       "        2.19381642e+01,  3.41426768e+01, -2.03061701e+01, -6.07450261e+01,\n",
       "       -1.99635256e+01,  7.84527043e+01, -1.11744898e+00, -1.34644786e+01,\n",
       "        1.08942099e-01,  4.97464716e+00,  1.13866281e+01,  8.97329997e+00,\n",
       "       -6.83380092e+00, -1.14339630e+01, -1.88759406e+01, -2.27628954e+01,\n",
       "       -7.33540113e+01, -7.35812700e+01, -2.48127323e+00, -5.45709969e+01,\n",
       "       -8.25369701e+01,  4.46135973e+01, -2.50171862e+01,  1.77937239e+01,\n",
       "       -6.25328441e+01, -6.78081012e+01,  7.84018354e+01,  8.31649270e+01,\n",
       "       -3.47483456e+01,  8.72688345e+00,  2.79791578e+01,  7.04091123e+01,\n",
       "        1.82412885e+00,  1.26234979e+02, -2.68426284e+01,  7.66397253e+01,\n",
       "        4.01529709e+01,  5.28741696e+01,  1.49455123e+01,  3.11885365e+01,\n",
       "       -4.89337210e+01, -5.60156921e+01, -9.23955111e+00, -5.98606341e+00,\n",
       "        5.70131362e+01,  5.10560926e+01,  3.89555698e+01, -2.62160169e+00,\n",
       "       -6.04185208e+01,  1.91578170e+01, -3.00368067e+01,  1.10889876e+02,\n",
       "       -2.58537452e+01,  5.83601901e+01,  2.92805350e+01,  3.86390472e+01,\n",
       "        1.40985761e+01,  8.21369516e+01,  7.23087331e+01, -2.10286216e+01,\n",
       "        3.23376070e+01, -1.80945948e+01,  4.45924268e+01, -6.48074132e+01,\n",
       "        4.00938340e+01,  5.27184392e+00, -2.60007589e+01,  5.35451958e+01,\n",
       "        3.51673009e+01, -4.11424429e+01,  6.01440908e+01, -6.00218841e+01,\n",
       "       -7.93885526e+01,  3.85827809e+01, -6.65035637e+00, -1.70102523e+01,\n",
       "        8.29159564e+01, -8.38605272e+01,  1.22900048e+01,  8.84615358e+01,\n",
       "        6.10753899e+01, -1.09409401e+00, -2.07966296e+01, -1.24387010e+01,\n",
       "        6.67882515e+00, -5.63261351e+01,  4.38302371e+01, -2.83095056e+01,\n",
       "        6.17054992e+01, -1.43814447e+01, -7.30390953e+01, -4.71815718e+01,\n",
       "        7.93789750e+01,  7.48235930e+01, -3.61116137e+01, -5.46521116e+01,\n",
       "        2.37614608e+01,  6.64981995e+01, -2.90493738e+01, -2.49323859e+00,\n",
       "       -1.78843977e+01,  3.02608653e+01,  2.17409078e+01,  1.87520908e+01,\n",
       "        1.11470829e+01,  1.10215501e+02,  1.13850380e+02, -7.90229123e+00,\n",
       "        1.80988437e+01, -8.00195030e+01,  6.12803311e+01, -7.77378965e+01,\n",
       "       -1.19179907e+01,  2.30624400e+01,  7.84884672e+01, -6.58223357e-01,\n",
       "        7.83240464e+00,  6.98672650e+01, -4.55820954e+01,  1.46617032e+01,\n",
       "       -3.15644695e+01, -3.70478296e+01, -5.63984537e+01, -5.02190921e+00,\n",
       "       -1.77789175e+00,  2.30520965e+00,  7.55510003e+00, -7.54662958e+00,\n",
       "       -1.03324056e+02,  3.55659401e+01, -7.30630970e+00,  1.49338044e+00,\n",
       "        6.91878878e-01, -5.33541797e+01, -1.29748014e+00,  7.23080078e+01,\n",
       "        2.56345794e+01, -3.01254283e+01,  7.95938324e+01,  2.53583765e+01,\n",
       "        6.29317515e+01, -7.57116300e+01, -2.68821475e+01, -4.16616120e+01,\n",
       "        5.73976185e+01,  2.65203850e+01, -4.52247842e+01,  7.06549989e+01,\n",
       "        1.24631681e+02, -4.63950926e+01, -3.49775927e+01, -1.19794779e+02,\n",
       "        5.86890274e+01, -5.11502521e+01, -7.25828702e+01,  9.46453657e+01,\n",
       "       -5.25752158e+01, -7.72802897e+00, -2.66873180e+01,  1.84301883e+01,\n",
       "       -6.47102170e+00,  1.29083468e+02,  5.02244972e+01,  2.17304152e+01,\n",
       "        4.30276031e+01, -3.00817332e+01,  3.96007475e-01,  4.00862238e+01,\n",
       "        6.09668903e+01,  6.04730195e+01, -1.09634576e+02,  8.39926741e+00,\n",
       "        1.62993313e+01,  6.20330674e+01,  6.40300820e+01,  4.40208172e+01,\n",
       "        1.19552244e+01, -5.31232277e+01,  3.48023553e+01, -1.25256816e+02,\n",
       "        3.06420465e+01,  1.66904364e+01,  5.56323032e+01,  6.24898272e+00,\n",
       "       -4.53761138e+01, -7.75013893e+00,  4.11835624e+01, -2.85611555e+01,\n",
       "        8.89046360e+01,  6.64050619e+00,  1.94061329e+01, -2.53773475e+01,\n",
       "        3.04831727e+01, -5.37814570e+01,  7.10521584e+01,  4.39135388e+01,\n",
       "        1.14781222e+02, -2.65782635e+01,  1.38184411e+02, -1.97071347e+01,\n",
       "       -6.41799904e+00, -6.26351136e+01, -9.68005158e+00, -5.42340691e+01,\n",
       "        1.77919722e+01, -8.42246585e+01,  2.20230919e+01,  5.41680762e+01,\n",
       "        1.07625636e+02,  4.66639129e+01,  5.43994600e+01,  1.59744012e+01,\n",
       "        2.31380344e+01, -1.04303281e+01, -4.79742556e+01, -1.45131780e+01,\n",
       "        6.24829311e+01, -4.39672038e+01,  9.00895106e+01, -1.66647940e+01,\n",
       "        7.47342673e+01, -3.43662234e+01,  1.42891020e+00,  2.28850311e+01,\n",
       "       -2.26736606e+01,  1.72874286e+00,  3.16003325e+01,  1.04791641e+01,\n",
       "       -3.57173781e+01,  1.69463719e+01,  1.48619867e+01, -6.33331051e+01,\n",
       "        1.10968046e+02, -3.77327643e+01,  4.05438149e+01,  4.75312307e+01,\n",
       "        8.75994628e+01, -3.47385653e+01, -7.15218615e+01, -1.65380999e+01,\n",
       "        3.59606923e+01,  8.39432518e+00,  7.91975407e+01, -4.60512052e+00,\n",
       "        2.61381008e+01, -7.26793348e+00,  7.11438997e+01, -9.33495228e+01,\n",
       "       -6.10105363e-01,  6.01531883e+01,  2.70175009e+01,  6.55457314e+01,\n",
       "        6.56055370e+01,  1.25762058e+02, -4.72286948e+01,  1.36215483e+01,\n",
       "       -1.21790762e+01, -1.97295929e+01,  4.69361748e+01, -5.58260926e+00,\n",
       "        2.63477396e+01,  6.03514476e+01,  7.74376684e+01,  3.17252910e+01,\n",
       "       -2.52647595e+01, -1.78934703e+01, -4.49422309e+01, -4.45057091e+01,\n",
       "        1.25859650e+01, -1.56345004e+02,  2.47669054e+00,  4.41410398e+01,\n",
       "        1.00288246e+02,  6.45807817e+01,  2.98134177e+01, -2.84458242e+01,\n",
       "        7.13660697e+00,  2.16874095e+01, -6.58736525e+01,  6.61997408e+01,\n",
       "        4.49021737e+01, -1.37865831e+00, -5.62084078e+01, -2.53191301e+01,\n",
       "       -5.57464468e+01, -4.73689076e+01, -2.18420589e+01,  8.04005808e+00,\n",
       "        1.34823600e+01, -1.44845306e+01, -4.67460321e+01,  2.82088131e+01,\n",
       "        6.19987586e+01,  3.01878701e+01, -4.08992081e+00, -4.84894826e+01,\n",
       "        8.59333775e+01, -1.01251960e+01,  2.77860932e+01, -6.31597138e+01,\n",
       "        6.06018096e+00, -2.27471554e+01, -4.41535011e+01,  6.36414407e+01,\n",
       "       -6.29014787e+00, -9.10633134e+00,  3.29981325e+01, -3.58863513e+01,\n",
       "        3.54534159e+01, -2.42979180e+01, -2.82875074e+00, -3.79888485e+01,\n",
       "        2.30155681e+01, -1.07585285e-01,  7.14804143e+01, -9.48035178e+00,\n",
       "        3.28713464e+01, -4.82722001e+00,  6.53343098e+01,  5.84683271e+01,\n",
       "       -6.88583410e+00, -1.60093578e+01,  2.22122748e+00, -2.53692117e+01,\n",
       "        3.95739430e+01,  3.38371554e+01, -5.99660535e+01,  4.37903471e+01,\n",
       "       -3.09102044e+01,  9.03909050e+01, -1.78189870e+01, -2.76946611e+00,\n",
       "       -7.79373667e+01, -3.39166250e+01,  2.12952138e+01,  3.88221785e+01,\n",
       "       -8.87584989e+00,  1.40676673e+01, -3.14209458e+01,  8.26046483e+01,\n",
       "        4.69160559e+01, -2.33305514e+01,  3.77095265e+01,  2.74410991e+01,\n",
       "        5.47074461e+01, -3.82824505e+01,  7.53344112e+00, -7.00196504e+01,\n",
       "        8.74268395e+01, -2.69843172e+01,  3.60457990e+00, -5.48566253e+01,\n",
       "       -3.06111070e+01,  4.74459584e+01,  3.30311877e+01, -7.48308775e+01,\n",
       "        1.74908742e+00, -6.12640761e+00,  4.54719067e+01,  1.06459630e+02,\n",
       "       -9.46144076e+01, -8.39334307e+01, -9.15628531e+01, -6.89961922e+01,\n",
       "       -8.34590925e+00,  2.04903081e+01, -1.73994449e+00, -8.07032629e+01,\n",
       "        6.33697977e+00,  6.69703669e+00,  7.49942246e+01,  4.70526607e+01,\n",
       "        1.01796430e+01, -3.63426773e+01,  7.15020582e+01, -3.67679339e+01,\n",
       "        2.90969932e+01,  6.64663913e+00, -7.12117421e+01, -2.56456115e+01,\n",
       "       -5.85715715e+01, -6.63065844e+00,  4.35344471e+01,  2.43388583e+01,\n",
       "        2.24463566e+01,  1.87397197e+01, -6.82961341e+01, -6.42886415e+01,\n",
       "        2.64280345e+01, -3.82656204e+01,  1.77042582e+01, -1.27012044e+01,\n",
       "        4.21818052e+01,  1.01305676e+01,  3.78230950e+01,  3.35263465e+01,\n",
       "       -1.99933976e+01, -6.91255000e+01,  4.50956566e+01,  4.20058051e+01,\n",
       "       -1.37490952e+02, -9.53643480e+00, -8.49910638e+01, -8.96280220e+01,\n",
       "       -1.63987167e+01, -8.50405733e+01, -8.44145588e+00, -1.85029923e+01,\n",
       "       -9.14314537e+01, -6.05742481e+00, -4.48691442e+01,  1.31743288e+01,\n",
       "        1.61251526e+01,  2.76298198e+01,  1.32952377e+01, -3.28398428e+01,\n",
       "       -2.26964166e+00,  3.03438273e+01,  1.16147532e+02,  8.19730626e+00,\n",
       "        3.50061738e+01,  2.10839632e+01, -2.39809467e+01, -6.23937455e+01,\n",
       "        3.32893236e+01,  6.48036839e+01, -8.86346297e+00, -3.15540358e+01,\n",
       "        5.61027166e+01,  7.57013646e+00, -5.47139564e+01, -1.90865931e+01,\n",
       "        2.81946664e+00,  8.65776331e+01, -9.48503828e+00,  3.00823942e+01,\n",
       "       -4.97123295e+01, -9.43722083e+01,  2.84261225e+01,  5.14140326e+01,\n",
       "       -2.74372545e+00,  6.68852109e+01, -3.98700360e+01,  4.00355947e+00,\n",
       "        2.04402885e+01, -4.29750235e+01,  4.95512651e+01,  2.48500401e+01,\n",
       "        4.76929061e+01, -3.57329367e+01,  9.37783382e+01,  2.14565755e+01,\n",
       "       -2.79998684e+01, -2.90905614e+01, -4.23478495e+01,  6.65795241e+01,\n",
       "       -1.44465071e+01,  8.13704937e+01, -2.31256824e+00, -6.90172690e+01,\n",
       "        2.26377033e+01,  2.95427016e+01, -1.00980625e+01,  5.77326556e+01,\n",
       "        5.67340530e+01,  6.86947052e+01, -3.36473930e+01, -9.55216842e+00,\n",
       "        5.95744471e+01,  5.15304584e+01,  3.46438008e+01,  9.74217399e+01,\n",
       "        4.55980551e+01,  2.77699962e+01, -2.79450301e+01, -1.08076552e+02,\n",
       "       -1.51005137e+01,  4.49119208e+01,  1.75418892e+01,  2.50355217e+01,\n",
       "       -2.49897309e+01,  4.81331744e+01,  6.40348962e+01,  1.17055145e+02,\n",
       "        3.69794438e+01,  2.33285981e+01, -4.37817620e+01,  9.18059227e+01,\n",
       "        6.46059409e+00, -6.38849751e+00, -7.12486297e+01,  3.38513944e+01,\n",
       "       -2.82412439e+01,  5.97249102e+01,  1.54971052e+00,  2.76226622e+01,\n",
       "        1.17196015e+02,  8.18631011e+01,  1.66143535e+01, -3.72950961e+01,\n",
       "        4.33688500e+01,  1.19558716e+02,  2.49691761e+01, -1.52929801e+01,\n",
       "       -2.96170623e+01, -2.58964913e+01, -3.37658043e+01, -5.05561327e-01,\n",
       "        5.69024269e+01,  3.57145492e+01,  1.05552543e+02, -1.88264444e+01,\n",
       "       -7.38214862e+01,  4.73850024e+00,  9.71424518e+01,  3.25402724e+01,\n",
       "        2.23598816e+01,  1.18424787e+02,  3.85825014e+01,  3.52628847e+01,\n",
       "       -8.01124418e+01, -1.83429016e+01, -4.73042411e+01,  6.00843245e+01,\n",
       "       -5.41854885e+01,  3.88602913e+01,  1.44604105e+01, -1.71162781e+01,\n",
       "        9.34585526e+01, -2.77220604e+01, -3.50098138e+01,  3.32655676e+01,\n",
       "        2.86631920e+01,  1.05717669e+02,  3.90615831e+01, -1.29709903e+01,\n",
       "       -1.34280759e+01,  8.93589083e+01,  4.35216970e+01,  6.07202508e+01,\n",
       "       -2.58717651e+01,  1.57404004e+01, -6.56624559e+01, -3.71424512e+01,\n",
       "       -3.49300878e+01,  3.31686738e+01,  4.37046516e+01,  4.87969770e+01,\n",
       "        6.46770486e-01, -6.75111579e+01,  6.93688880e+01,  3.06528846e+01,\n",
       "        3.35136444e+01, -1.57378294e+01, -2.39454441e+01,  1.19169822e+02,\n",
       "        2.08319614e+01, -5.08335168e+01, -3.57246176e+01, -3.26328721e+01,\n",
       "        1.35315849e+01,  7.08273021e+01,  4.15774779e+01,  1.25499087e+01,\n",
       "        4.76744933e+01,  1.84539156e+01, -9.88524491e+00,  1.19097962e+02,\n",
       "       -4.71729540e+01, -7.09606755e+01, -1.05169837e+02,  3.76198343e+00,\n",
       "       -6.94544808e+00,  2.50128290e+01, -1.30333912e+01,  2.93090389e+00,\n",
       "       -9.89278828e+01,  6.72795920e+00,  4.06971991e+01, -5.28249264e+00,\n",
       "       -1.95776282e+01,  6.32933421e+01, -1.66251562e+01,  1.05486315e+02,\n",
       "       -5.66264543e+01, -6.43657513e+00,  8.89595922e-01, -1.06602027e+01,\n",
       "       -3.64128373e+00,  3.90883498e+01,  1.83946543e+01, -3.25076479e+01,\n",
       "        3.12423262e+00, -7.39723965e+00, -2.35876084e+01, -3.89744022e+01,\n",
       "       -7.75712753e+01,  1.66898035e+01,  1.27346276e+02, -2.96292981e+01,\n",
       "        6.26741383e+01,  1.20083503e+02, -2.68603274e+01, -4.59230837e+01,\n",
       "       -1.26132707e+01,  8.10811666e+01, -1.83103971e+01,  1.17676117e+02,\n",
       "       -6.00830593e+00, -1.66590935e+00, -6.46152858e+01,  2.71532276e+00,\n",
       "        4.11043176e+01, -1.28431538e+01, -2.59772060e+01,  9.71080081e+00,\n",
       "        9.32471839e+01, -1.09623460e+02, -3.90951207e+01, -2.36131638e+01,\n",
       "        8.62775245e+01, -5.88787431e+01,  9.48266186e+00,  3.41960914e-01,\n",
       "        4.74990710e+01,  1.12339475e+02,  9.26721623e+01, -8.65529329e+01,\n",
       "       -6.84663966e+01,  2.85114165e+00,  8.38430984e+01, -1.28068242e+01,\n",
       "        4.66099386e+01,  7.57665662e+01,  3.57083345e+01, -8.08482039e+01,\n",
       "       -6.24665771e+00,  5.10941737e+01, -3.63513878e+01, -8.48324330e+00,\n",
       "       -3.69448008e+01,  2.63434029e+01, -7.58382497e+01, -8.04521623e+01,\n",
       "        2.93618536e+01, -1.50981168e+01, -1.05077884e+01,  5.96058475e+01,\n",
       "       -8.23892189e+00, -4.15700094e+01, -5.86167363e+01,  4.58535121e+01,\n",
       "        9.51347399e+01, -3.70273156e+01, -1.49527649e+00, -1.64383187e+01,\n",
       "        3.57631374e+01,  1.27803223e+01,  3.59113868e+01,  6.52216824e+01,\n",
       "       -1.50413605e+01,  7.25061570e+01,  8.09720667e+00,  3.23861104e+01,\n",
       "        1.22732999e+01,  1.17368142e+02, -3.10489651e+01, -1.62064370e+01,\n",
       "        1.16815155e+01,  8.48422738e+00,  9.35670686e+01,  9.87130588e+01,\n",
       "        1.92241116e+01,  3.95873648e+00,  1.60527433e+01,  6.42560843e+01,\n",
       "       -6.18641087e+01, -3.26587385e+00, -7.06258615e+01, -9.86060738e+01,\n",
       "        8.94920003e+01,  1.70893613e+01, -2.39970221e+01,  1.06220293e+02,\n",
       "       -2.89915876e+01,  1.58411268e+02,  8.54591227e+01,  1.43104854e+02,\n",
       "        5.91706846e+00, -4.29342674e+01,  6.57693901e+00, -8.80761798e+00,\n",
       "        3.98396588e+01,  7.11455177e+00, -8.05519068e+01, -6.20214901e+01,\n",
       "        7.95074143e+01, -4.90861752e+01, -2.01246873e+01,  5.02495374e+01,\n",
       "       -3.70289264e+01, -1.23820368e+02,  3.78919947e+01, -3.37605993e+01,\n",
       "        3.85440479e+01, -1.29187128e+01, -5.40786411e+01,  5.81694860e+01,\n",
       "        1.96663473e+01, -4.13941312e+01,  2.77862012e+01,  5.78434665e+01,\n",
       "        9.50242133e+00,  5.14901435e+01, -8.87456071e+01, -8.23266682e+00,\n",
       "        3.34252186e+01, -1.65895644e+01, -5.04827243e+00, -6.16917786e+01,\n",
       "       -8.90399333e+01, -7.02634142e+01,  1.84497139e+01,  3.76752250e+01,\n",
       "        4.85352864e+01,  4.35863124e+01,  4.14013949e+01,  3.50256655e+01,\n",
       "        2.54178698e+01, -5.63173278e+01,  5.87024456e+01,  1.43449729e+01,\n",
       "        6.22689922e+00, -1.56670908e+01,  9.22927856e+00, -2.94817397e+01,\n",
       "        1.14999688e+01,  2.05730403e+01,  8.78950798e+01, -1.69164553e+01,\n",
       "       -7.51145706e+01, -5.47764955e+01,  7.15844953e+00,  9.69741016e+01,\n",
       "       -4.16774128e+01,  4.27289629e+00, -7.41731978e+00,  3.20349114e+00,\n",
       "        6.92107046e+01, -2.51996140e+00, -1.08231311e+01,  9.69574213e+01,\n",
       "        1.62312889e+00,  3.46980561e+01,  4.35047760e+01,  5.58546580e+01,\n",
       "        7.74514715e+01,  4.51595070e+01,  6.64087212e+01,  7.31055106e+01,\n",
       "       -5.72837204e+01, -3.84569318e+01,  3.89165288e+01, -1.36771228e+01,\n",
       "       -3.56333073e+01,  6.97681138e+01,  9.76369961e+01,  3.54717109e+01,\n",
       "        5.56409798e+01,  1.01878249e+02,  8.32004560e+01,  2.26824670e+01,\n",
       "       -6.37378427e+00,  1.66862166e+01,  4.78829663e+01, -1.34363984e+02,\n",
       "        5.19372822e+01,  5.08175748e+01, -8.59122020e+01, -2.68958222e+00,\n",
       "        2.49119578e+00,  4.05474197e+01,  1.80239433e+01,  1.44625204e+01,\n",
       "        7.23965327e+01, -4.73778883e+01,  9.35671175e+01,  8.18348311e+00,\n",
       "        7.86632103e+01,  1.19639978e+02, -1.62629394e+01, -1.54809261e+01,\n",
       "        9.96084422e+00,  5.25397894e+01,  3.57891299e+01,  2.62369647e+01,\n",
       "        3.75450064e+01,  6.05172567e+00,  6.07020501e+01,  1.21892419e+01,\n",
       "       -7.58229637e-01,  7.27661829e+01,  2.70716218e+01, -3.24182622e+01])"
      ]
     },
     "execution_count": 40,
     "metadata": {},
     "output_type": "execute_result"
    }
   ],
   "source": [
    "set_2 = normal_random(10,50,1000)\n",
    "set_2"
   ]
  },
  {
   "cell_type": "markdown",
   "metadata": {},
   "source": [
    "How are the two distributions different?"
   ]
  },
  {
   "cell_type": "code",
   "execution_count": 41,
   "metadata": {},
   "outputs": [],
   "source": [
    "# your answer here:\n",
    "# because of the significantly higher standard deviation, the range of numbers is much wider in set_2"
   ]
  },
  {
   "cell_type": "markdown",
   "metadata": {},
   "source": [
    "## Normal Distribution of Real Data\n",
    "\n",
    "In this challenge we are going to take a look the real data. We will use vehicles.csv file for this exercise"
   ]
  },
  {
   "cell_type": "markdown",
   "metadata": {},
   "source": [
    "First import vehicles.csv.\n",
    "Then plot the histograms for the following variables:\n",
    "\n",
    "1. Fuel Barrels/Year"
   ]
  },
  {
   "cell_type": "code",
   "execution_count": 42,
   "metadata": {},
   "outputs": [
    {
     "data": {
      "text/html": [
       "<div>\n",
       "<style scoped>\n",
       "    .dataframe tbody tr th:only-of-type {\n",
       "        vertical-align: middle;\n",
       "    }\n",
       "\n",
       "    .dataframe tbody tr th {\n",
       "        vertical-align: top;\n",
       "    }\n",
       "\n",
       "    .dataframe thead th {\n",
       "        text-align: right;\n",
       "    }\n",
       "</style>\n",
       "<table border=\"1\" class=\"dataframe\">\n",
       "  <thead>\n",
       "    <tr style=\"text-align: right;\">\n",
       "      <th></th>\n",
       "      <th>Make</th>\n",
       "      <th>Model</th>\n",
       "      <th>Year</th>\n",
       "      <th>Engine Displacement</th>\n",
       "      <th>Cylinders</th>\n",
       "      <th>Transmission</th>\n",
       "      <th>Drivetrain</th>\n",
       "      <th>Vehicle Class</th>\n",
       "      <th>Fuel Type</th>\n",
       "      <th>Fuel Barrels/Year</th>\n",
       "      <th>City MPG</th>\n",
       "      <th>Highway MPG</th>\n",
       "      <th>Combined MPG</th>\n",
       "      <th>CO2 Emission Grams/Mile</th>\n",
       "      <th>Fuel Cost/Year</th>\n",
       "    </tr>\n",
       "  </thead>\n",
       "  <tbody>\n",
       "    <tr>\n",
       "      <th>0</th>\n",
       "      <td>AM General</td>\n",
       "      <td>DJ Po Vehicle 2WD</td>\n",
       "      <td>1984</td>\n",
       "      <td>2.5</td>\n",
       "      <td>4.0</td>\n",
       "      <td>Automatic 3-spd</td>\n",
       "      <td>2-Wheel Drive</td>\n",
       "      <td>Special Purpose Vehicle 2WD</td>\n",
       "      <td>Regular</td>\n",
       "      <td>19.388824</td>\n",
       "      <td>18</td>\n",
       "      <td>17</td>\n",
       "      <td>17</td>\n",
       "      <td>522.764706</td>\n",
       "      <td>1950</td>\n",
       "    </tr>\n",
       "    <tr>\n",
       "      <th>1</th>\n",
       "      <td>AM General</td>\n",
       "      <td>FJ8c Post Office</td>\n",
       "      <td>1984</td>\n",
       "      <td>4.2</td>\n",
       "      <td>6.0</td>\n",
       "      <td>Automatic 3-spd</td>\n",
       "      <td>2-Wheel Drive</td>\n",
       "      <td>Special Purpose Vehicle 2WD</td>\n",
       "      <td>Regular</td>\n",
       "      <td>25.354615</td>\n",
       "      <td>13</td>\n",
       "      <td>13</td>\n",
       "      <td>13</td>\n",
       "      <td>683.615385</td>\n",
       "      <td>2550</td>\n",
       "    </tr>\n",
       "    <tr>\n",
       "      <th>2</th>\n",
       "      <td>AM General</td>\n",
       "      <td>Post Office DJ5 2WD</td>\n",
       "      <td>1985</td>\n",
       "      <td>2.5</td>\n",
       "      <td>4.0</td>\n",
       "      <td>Automatic 3-spd</td>\n",
       "      <td>Rear-Wheel Drive</td>\n",
       "      <td>Special Purpose Vehicle 2WD</td>\n",
       "      <td>Regular</td>\n",
       "      <td>20.600625</td>\n",
       "      <td>16</td>\n",
       "      <td>17</td>\n",
       "      <td>16</td>\n",
       "      <td>555.437500</td>\n",
       "      <td>2100</td>\n",
       "    </tr>\n",
       "    <tr>\n",
       "      <th>3</th>\n",
       "      <td>AM General</td>\n",
       "      <td>Post Office DJ8 2WD</td>\n",
       "      <td>1985</td>\n",
       "      <td>4.2</td>\n",
       "      <td>6.0</td>\n",
       "      <td>Automatic 3-spd</td>\n",
       "      <td>Rear-Wheel Drive</td>\n",
       "      <td>Special Purpose Vehicle 2WD</td>\n",
       "      <td>Regular</td>\n",
       "      <td>25.354615</td>\n",
       "      <td>13</td>\n",
       "      <td>13</td>\n",
       "      <td>13</td>\n",
       "      <td>683.615385</td>\n",
       "      <td>2550</td>\n",
       "    </tr>\n",
       "    <tr>\n",
       "      <th>4</th>\n",
       "      <td>ASC Incorporated</td>\n",
       "      <td>GNX</td>\n",
       "      <td>1987</td>\n",
       "      <td>3.8</td>\n",
       "      <td>6.0</td>\n",
       "      <td>Automatic 4-spd</td>\n",
       "      <td>Rear-Wheel Drive</td>\n",
       "      <td>Midsize Cars</td>\n",
       "      <td>Premium</td>\n",
       "      <td>20.600625</td>\n",
       "      <td>14</td>\n",
       "      <td>21</td>\n",
       "      <td>16</td>\n",
       "      <td>555.437500</td>\n",
       "      <td>2550</td>\n",
       "    </tr>\n",
       "  </tbody>\n",
       "</table>\n",
       "</div>"
      ],
      "text/plain": [
       "               Make                Model  Year  Engine Displacement  \\\n",
       "0        AM General    DJ Po Vehicle 2WD  1984                  2.5   \n",
       "1        AM General     FJ8c Post Office  1984                  4.2   \n",
       "2        AM General  Post Office DJ5 2WD  1985                  2.5   \n",
       "3        AM General  Post Office DJ8 2WD  1985                  4.2   \n",
       "4  ASC Incorporated                  GNX  1987                  3.8   \n",
       "\n",
       "   Cylinders     Transmission        Drivetrain                Vehicle Class  \\\n",
       "0        4.0  Automatic 3-spd     2-Wheel Drive  Special Purpose Vehicle 2WD   \n",
       "1        6.0  Automatic 3-spd     2-Wheel Drive  Special Purpose Vehicle 2WD   \n",
       "2        4.0  Automatic 3-spd  Rear-Wheel Drive  Special Purpose Vehicle 2WD   \n",
       "3        6.0  Automatic 3-spd  Rear-Wheel Drive  Special Purpose Vehicle 2WD   \n",
       "4        6.0  Automatic 4-spd  Rear-Wheel Drive                 Midsize Cars   \n",
       "\n",
       "  Fuel Type  Fuel Barrels/Year  City MPG  Highway MPG  Combined MPG  \\\n",
       "0   Regular          19.388824        18           17            17   \n",
       "1   Regular          25.354615        13           13            13   \n",
       "2   Regular          20.600625        16           17            16   \n",
       "3   Regular          25.354615        13           13            13   \n",
       "4   Premium          20.600625        14           21            16   \n",
       "\n",
       "   CO2 Emission Grams/Mile  Fuel Cost/Year  \n",
       "0               522.764706            1950  \n",
       "1               683.615385            2550  \n",
       "2               555.437500            2100  \n",
       "3               683.615385            2550  \n",
       "4               555.437500            2550  "
      ]
     },
     "execution_count": 42,
     "metadata": {},
     "output_type": "execute_result"
    }
   ],
   "source": [
    "# your code here\n",
    "vehicles = pd.read_csv(\"/Users/medea/Documents/Ironhack/Labs_Week_5/lab-probability-distributions/your-code/vehicles.csv\")\n",
    "vehicles.head()"
   ]
  },
  {
   "cell_type": "code",
   "execution_count": 44,
   "metadata": {},
   "outputs": [
    {
     "data": {
      "image/png": "[encoded data removed]",
      "text/plain": [
       "<Figure size 432x288 with 1 Axes>"
      ]
     },
     "metadata": {
      "needs_background": "light"
     },
     "output_type": "display_data"
    }
   ],
   "source": [
    "plt.hist(vehicles[\"Fuel Barrels/Year\"])\n",
    "plt.show()"
   ]
  },
  {
   "cell_type": "markdown",
   "metadata": {},
   "source": [
    "2. CO2 Emission Grams/Mile "
   ]
  },
  {
   "cell_type": "code",
   "execution_count": 45,
   "metadata": {},
   "outputs": [
    {
     "data": {
      "image/png": "[encoded data removed]",
      "text/plain": [
       "<Figure size 432x288 with 1 Axes>"
      ]
     },
     "metadata": {
      "needs_background": "light"
     },
     "output_type": "display_data"
    }
   ],
   "source": [
    "# your code here\n",
    "plt.hist(vehicles[\"CO2 Emission Grams/Mile\"])\n",
    "plt.show()"
   ]
  },
  {
   "cell_type": "markdown",
   "metadata": {},
   "source": [
    "3. Combined MPG"
   ]
  },
  {
   "cell_type": "code",
   "execution_count": 46,
   "metadata": {},
   "outputs": [
    {
     "data": {
      "image/png": "[encoded data removed]",
      "text/plain": [
       "<Figure size 432x288 with 1 Axes>"
      ]
     },
     "metadata": {
      "needs_background": "light"
     },
     "output_type": "display_data"
    }
   ],
   "source": [
    "# your code here\n",
    "\n",
    "plt.hist(vehicles[\"Combined MPG\"])\n",
    "plt.show()"
   ]
  },
  {
   "cell_type": "markdown",
   "metadata": {},
   "source": [
    "Which one(s) of the variables are nearly normally distributed? How do you know?"
   ]
  },
  {
   "cell_type": "code",
   "execution_count": 56,
   "metadata": {},
   "outputs": [],
   "source": [
    "# you answer here:\n",
    "mean_1 = vehicles[\"Fuel Barrels/Year\"].mean()\n",
    "median_1 = vehicles[\"Fuel Barrels/Year\"].median()\n",
    "\n",
    "mean_2 = vehicles[\"CO2 Emission Grams/Mile\"].mean()\n",
    "median_2 = vehicles[\"CO2 Emission Grams/Mile\"].median()\n",
    "\n",
    "mean_3 = vehicles[\"Combined MPG\"].mean()\n",
    "median_3 = vehicles[\"Combined MPG\"].median()"
   ]
  },
  {
   "cell_type": "code",
   "execution_count": 58,
   "metadata": {},
   "outputs": [
    {
     "name": "stdout",
     "output_type": "stream",
     "text": [
      "1.0150543203914761\n",
      "1.0162046186437532\n",
      "1.0489117068371865\n"
     ]
    }
   ],
   "source": [
    "print(mean_1/median_1)\n",
    "print(mean_2/median_2)\n",
    "print(mean_3/median_3)"
   ]
  },
  {
   "cell_type": "code",
   "execution_count": null,
   "metadata": {},
   "outputs": [],
   "source": [
    "# all of the variables seem to be quite normally distributed\n",
    "\n",
    "# but when looking at the ratio of their means and medians we see that vehicles[\"Fuel Barrels/Year\"] has the lowest ration\n",
    "\n",
    "# that means that mean and median are the most similar (in normal dist they are the same)\n",
    "\n",
    "# therefore, vehicles[\"Fuel Barrels/Year\"] is the most normal distributed variable"
   ]
  },
  {
   "cell_type": "markdown",
   "metadata": {},
   "source": [
    "## Exponential Distribution"
   ]
  },
  {
   "cell_type": "markdown",
   "metadata": {},
   "source": [
    "1. Using `numpy.random.exponential`, create a function that returns a list of numbers exponentially distributed with the mean of 10. \n",
    "\n",
    "1. Use the function to generate two number sequences with a mean of 1 and 100 and a size of 1000.\n",
    "\n",
    "1. Plot the distributions as histograms with the number of bins as 100.\n",
    "\n",
    "Your output should look like below:\n",
    "\n",
    "![exponential distribution](ed.png)"
   ]
  },
  {
   "cell_type": "code",
   "execution_count": 59,
   "metadata": {},
   "outputs": [],
   "source": [
    "# your code here\n",
    "\n",
    "def rand_exponential(mean, size):\n",
    "    set = np.random.exponential(mean,size)\n",
    "    return set"
   ]
  },
  {
   "cell_type": "code",
   "execution_count": 64,
   "metadata": {},
   "outputs": [
    {
     "data": {
      "image/png": "[encoded data removed]",
      "text/plain": [
       "<Figure size 432x288 with 1 Axes>"
      ]
     },
     "metadata": {
      "needs_background": "light"
     },
     "output_type": "display_data"
    }
   ],
   "source": [
    "set_1 = rand_exponential(1,1000)\n",
    "\n",
    "plt.hist(set_1, bins=100)\n",
    "plt.show()"
   ]
  },
  {
   "cell_type": "code",
   "execution_count": 62,
   "metadata": {},
   "outputs": [
    {
     "data": {
      "image/png": "[encoded data removed]",
      "text/plain": [
       "<Figure size 432x288 with 1 Axes>"
      ]
     },
     "metadata": {
      "needs_background": "light"
     },
     "output_type": "display_data"
    }
   ],
   "source": [
    "set_2 = rand_exponential(100,1000)\n",
    "\n",
    "plt.hist(set_2, bins=100)\n",
    "plt.show()"
   ]
  },
  {
   "cell_type": "markdown",
   "metadata": {},
   "source": [
    "How are the two distributions different?"
   ]
  },
  {
   "cell_type": "code",
   "execution_count": 65,
   "metadata": {},
   "outputs": [],
   "source": [
    "# your answer here:\n",
    "\n",
    "# the values of set2 are much bigger, because the mean is also much bigger (100 vs 1)"
   ]
  },
  {
   "cell_type": "markdown",
   "metadata": {},
   "source": [
    "## Exponential Distribution of Real Data\n",
    "\n",
    "Suppose that the amount of time one spends in a bank is exponentially distributed with mean as 10 minutes (i.e. λ = 1/10). What is the probability that a customer will spend less than fifteen minutes in the bank? \n",
    "\n",
    "Write a code in python to solve this problem"
   ]
  },
  {
   "cell_type": "code",
   "execution_count": 67,
   "metadata": {},
   "outputs": [
    {
     "data": {
      "text/plain": [
       "0.7534030360583935"
      ]
     },
     "execution_count": 67,
     "metadata": {},
     "output_type": "execute_result"
    }
   ],
   "source": [
    "# your answer here\n",
    "# Hint: This is same as saying P(x<15)\n",
    "\n",
    "from scipy.stats import expon\n",
    "\n",
    "lambda_inv = 10\n",
    "\n",
    "dist = expon(scale = lambda_inv)\n",
    "\n",
    "dist.cdf(14)"
   ]
  },
  {
   "cell_type": "markdown",
   "metadata": {},
   "source": [
    "What is the probability that the customer will spend more than 15 minutes"
   ]
  },
  {
   "cell_type": "code",
   "execution_count": 68,
   "metadata": {},
   "outputs": [
    {
     "data": {
      "text/plain": [
       "0.22313016014842982"
      ]
     },
     "execution_count": 68,
     "metadata": {},
     "output_type": "execute_result"
    }
   ],
   "source": [
    "# your answer here\n",
    "\n",
    "dist.sf(15)"
   ]
  },
  {
   "cell_type": "code",
   "execution_count": null,
   "metadata": {},
   "outputs": [],
   "source": []
  }
 ],
 "metadata": {
  "interpreter": {
   "hash": "ecb3fb6d188ff4619f90ca2a35ca6f2ca1746fcd172f4f953b4f0c73e8f5124d"
  },
  "kernelspec": {
   "display_name": "Python 3.8.5 ('projectsql')",
   "language": "python",
   "name": "python3"
  },
  "language_info": {
   "codemirror_mode": {
    "name": "ipython",
    "version": 3
   },
   "file_extension": ".py",
   "mimetype": "text/x-python",
   "name": "python",
   "nbconvert_exporter": "python",
   "pygments_lexer": "ipython3",
   "version": "3.8.5"
  }
 },
 "nbformat": 4,
 "nbformat_minor": 2
}
